{
 "cells": [
  {
   "cell_type": "code",
   "execution_count": 5,
   "metadata": {},
   "outputs": [
    {
     "name": "stdout",
     "output_type": "stream",
     "text": [
      "<class 'numpy.ndarray'>\n",
      "(3,)\n",
      "1 2 3\n",
      "[5 2 3]\n",
      "(2, 3)\n",
      "1 2 4\n"
     ]
    }
   ],
   "source": [
    "import numpy as np\n",
    "\n",
    "#배열\n",
    "a = np.array([1, 2, 3]) \n",
    "print (type(a))\n",
    "print (a.shape)            \n",
    "print (a[0], a[1], a[2])   \n",
    "a[0] = 5                 \n",
    "print (a)                  \n",
    "\n",
    "b = np.array([[1,2,3],[4,5,6]])  \n",
    "print (b.shape)                     \n",
    "print (b[0, 0], b[0, 1], b[1, 0])  "
   ]
  },
  {
   "cell_type": "code",
   "execution_count": 6,
   "metadata": {},
   "outputs": [
    {
     "name": "stdout",
     "output_type": "stream",
     "text": [
      "[[ 0.  0.]\n",
      " [ 0.  0.]]\n",
      "[[ 1.  1.]]\n",
      "[[7 7]\n",
      " [7 7]]\n",
      "[[ 1.  0.]\n",
      " [ 0.  1.]]\n",
      "[[ 0.14171382  0.83727925]\n",
      " [ 0.21744597  0.26462556]]\n"
     ]
    }
   ],
   "source": [
    "a = np.zeros((2,2))  \n",
    "print (a)             \n",
    "                     \n",
    "b = np.ones((1,2))   \n",
    "print (b)             \n",
    "\n",
    "c = np.full((2,2), 7) \n",
    "print (c)                           \n",
    "\n",
    "d = np.eye(2)       \n",
    "print (d)              \n",
    "                     \n",
    "e = np.random.random((2,2)) \n",
    "print (e)                                            "
   ]
  },
  {
   "cell_type": "code",
   "execution_count": 7,
   "metadata": {},
   "outputs": [
    {
     "name": "stdout",
     "output_type": "stream",
     "text": [
      "2\n",
      "77\n"
     ]
    }
   ],
   "source": [
    "#배열 인덱싱 슬레이싱\n",
    "a = np.array([[1,2,3,4], [5,6,7,8], [9,10,11,12]])\n",
    "b = a[:2, 1:3]\n",
    "print (a[0, 1])\n",
    "b[0, 0] = 77 \n",
    "print (a[0, 1])"
   ]
  },
  {
   "cell_type": "code",
   "execution_count": 9,
   "metadata": {},
   "outputs": [
    {
     "name": "stdout",
     "output_type": "stream",
     "text": [
      "[5 6 7 8] (4,)\n",
      "[[5 6 7 8]] (1, 4)\n",
      "[ 2  6 10] (3,)\n",
      "[[ 2]\n",
      " [ 6]\n",
      " [10]] (3, 1)\n"
     ]
    }
   ],
   "source": [
    "a = np.array([[1,2,3,4], [5,6,7,8], [9,10,11,12]])\n",
    "row_r1 = a[1, :]\n",
    "row_r2 = a[1:2, :] \n",
    "print (row_r1, row_r1.shape)\n",
    "print (row_r2, row_r2.shape)\n",
    "\n",
    "col_r1 = a[:, 1]\n",
    "col_r2 = a[:, 1:2]\n",
    "print (col_r1, col_r1.shape)  \n",
    "print (col_r2, col_r2.shape)"
   ]
  },
  {
   "cell_type": "code",
   "execution_count": 10,
   "metadata": {},
   "outputs": [
    {
     "name": "stdout",
     "output_type": "stream",
     "text": [
      "[1 4 5]\n",
      "[1 4 5]\n",
      "[2 2]\n",
      "[2 2]\n"
     ]
    }
   ],
   "source": [
    "#정수 배열 인덱싱\n",
    "a = np.array([[1,2], [3, 4], [5, 6]])\n",
    "print (a[[0, 1, 2], [0, 1, 0]])\n",
    "print (np.array([a[0, 0], a[1, 1], a[2, 0]]))\n",
    "print (a[[0, 0], [1, 1]])\n",
    "print (np.array([a[0, 1], a[0, 1]]))"
   ]
  },
  {
   "cell_type": "code",
   "execution_count": 11,
   "metadata": {},
   "outputs": [
    {
     "name": "stdout",
     "output_type": "stream",
     "text": [
      "[[False False]\n",
      " [ True  True]\n",
      " [ True  True]]\n",
      "[3 4 5 6]\n",
      "[3 4 5 6]\n"
     ]
    }
   ],
   "source": [
    "#불리언 배열 인덱싱\n",
    "a = np.array([[1,2], [3, 4], [5, 6]])\n",
    "bool_idx = (a > 2) \n",
    "print (bool_idx)\n",
    "print (a[bool_idx])\n",
    "print (a[a > 2])"
   ]
  },
  {
   "cell_type": "code",
   "execution_count": null,
   "metadata": {
    "collapsed": true
   },
   "outputs": [],
   "source": []
  }
 ],
 "metadata": {
  "kernelspec": {
   "display_name": "Python 3",
   "language": "python",
   "name": "python3"
  },
  "language_info": {
   "codemirror_mode": {
    "name": "ipython",
    "version": 3
   },
   "file_extension": ".py",
   "mimetype": "text/x-python",
   "name": "python",
   "nbconvert_exporter": "python",
   "pygments_lexer": "ipython3",
   "version": "3.5.3"
  }
 },
 "nbformat": 4,
 "nbformat_minor": 2
}
