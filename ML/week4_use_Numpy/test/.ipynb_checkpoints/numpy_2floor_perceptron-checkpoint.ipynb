{
 "cells": [
  {
   "cell_type": "code",
   "execution_count": 12,
   "metadata": {},
   "outputs": [
    {
     "name": "stdout",
     "output_type": "stream",
     "text": [
      "sig -> sig -> sig -> y\n",
      "입력층 값 : [ 4.5  6.2]\n",
      "1st 은닉층 값 : [ 0.91606157  0.99033948  0.9989626 ]\n",
      "2nd 은닉층 값 : [ 0.78403932  0.90559276]\n",
      "출력층 값 : [ 0.72302619  0.80177876]\n",
      "\n",
      "sig -> sig -> sig -> soft -> y\n",
      "입력층 값 : [ 4.5  6.2]\n",
      "1st 은닉층 값 : [ 0.91606157  0.99033948  0.9989626 ]\n",
      "2nd 은닉층 값 : [ 0.78403932  0.90559276]\n",
      "3rd 은닉층 값 : [ 0.72302619  0.80177876]\n",
      "출력층 값 : [ 0.48032203  0.51967797]\n"
     ]
    }
   ],
   "source": [
    "import numpy as np\n",
    "\n",
    "def initNeuralNetwork():\n",
    "    neuralNetwork= {}\n",
    "    neuralNetwork['W1']=np.array([[0.1, 0.3, 0.5] , [0.2, 0.4 , 0.6]])\n",
    "    neuralNetwork['W2']=np.array([[0.1, 0.4] , [0.2, 0.5] , [0.3, 0.6]])\n",
    "    neuralNetwork['W3']=np.array([[0.1, 0.3] , [0.2, 0.4 ]])\n",
    "    neuralNetwork['b1']=np.array([0.7, 0.8, 0.9])\n",
    "    neuralNetwork['b2']=np.array([0.7, 0.8])\n",
    "    neuralNetwork['b3']=np.array([0.7, 0.8])\n",
    "    \n",
    "    return neuralNetwork\n",
    "\n",
    "def sigmoid(x):\n",
    "    return 1/(1+np.exp(-x))\n",
    "\n",
    "def identity(x):\n",
    "    return x\n",
    "\n",
    "def softmax(x):\n",
    "    expX = np.exp(x-np.max(x))\n",
    "    sumExpX = np.sum(expX)\n",
    "    return expX / sumExpX\n",
    "\n",
    "def feedForward(neuralNetwork , ia):\n",
    "    W1, W2, W3 = neuralNetwork['W1'], neuralNetwork['W2'], neuralNetwork['W3']\n",
    "    b1, b2, b3 = neuralNetwork['b1'], neuralNetwork['b2'], neuralNetwork['b3']\n",
    "    \n",
    "    z1 = sigmoid(np.dot(ia , W1) + b1)\n",
    "    print(\"1st 은닉층 값 : \" + str(z1))\n",
    "    \n",
    "    z2 = sigmoid(np.dot(z1 , W2) + b2)\n",
    "    print(\"2nd 은닉층 값 : \" + str(z2))\n",
    "    \n",
    "    y = sigmoid(np.dot(z2 , W3) + b3)\n",
    "    return y\n",
    "\n",
    "def feedForward_soft(neuralNetwork , ia):\n",
    "    W1, W2, W3 = neuralNetwork['W1'], neuralNetwork['W2'], neuralNetwork['W3']\n",
    "    b1, b2, b3 = neuralNetwork['b1'], neuralNetwork['b2'], neuralNetwork['b3']\n",
    "    \n",
    "    z1 = sigmoid(np.dot(ia , W1) + b1)\n",
    "    print(\"1st 은닉층 값 : \" + str(z1))\n",
    "    \n",
    "    z2 = sigmoid(np.dot(z1 , W2) + b2)\n",
    "    print(\"2nd 은닉층 값 : \" + str(z2))\n",
    "    \n",
    "    z3 = sigmoid(np.dot(z2 , W3) + b3)\n",
    "    print(\"3rd 은닉층 값 : \" + str(z3))\n",
    "    \n",
    "    y = softmax(z3)\n",
    "    return y\n",
    "\n",
    "print(\"sig -> sig -> sig -> y\")\n",
    "neuralNetwork = initNeuralNetwork()\n",
    "ia = np.array([4.5 , 6.2])\n",
    "print(\"입력층 값 : \" + str(ia))\n",
    "oa = feedForward(neuralNetwork , ia)\n",
    "print(\"출력층 값 : \" + str(oa))\n",
    "    \n",
    "print(\"\\nsig -> sig -> sig -> soft -> y\")\n",
    "neuralNetwork = initNeuralNetwork()\n",
    "ia = np.array([4.5 , 6.2])\n",
    "print(\"입력층 값 : \" + str(ia))\n",
    "oa = feedForward_soft(neuralNetwork , ia)\n",
    "print(\"출력층 값 : \" + str(oa))\n",
    "    \n",
    "    "
   ]
  },
  {
   "cell_type": "code",
   "execution_count": null,
   "metadata": {
    "collapsed": true
   },
   "outputs": [],
   "source": []
  }
 ],
 "metadata": {
  "kernelspec": {
   "display_name": "Python 3",
   "language": "python",
   "name": "python3"
  },
  "language_info": {
   "codemirror_mode": {
    "name": "ipython",
    "version": 3
   },
   "file_extension": ".py",
   "mimetype": "text/x-python",
   "name": "python",
   "nbconvert_exporter": "python",
   "pygments_lexer": "ipython3",
   "version": "3.5.3"
  }
 },
 "nbformat": 4,
 "nbformat_minor": 2
}
