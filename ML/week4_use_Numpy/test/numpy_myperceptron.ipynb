{
 "cells": [
  {
   "cell_type": "code",
   "execution_count": 3,
   "metadata": {},
   "outputs": [
    {
     "name": "stdout",
     "output_type": "stream",
     "text": [
      "AND Perceptron\n",
      "[0 0] --> 0\n",
      "[0 1] --> 0\n",
      "[1 0] --> 0\n",
      "[1 1] --> 1\n",
      "\n",
      "NAND Perceptron\n",
      "[0 0] --> 1\n",
      "[0 1] --> 1\n",
      "[1 0] --> 1\n",
      "[1 1] --> 0\n",
      "\n",
      "OR Perceptron\n",
      "[0 0] --> 0\n",
      "[0 1] --> 1\n",
      "[1 0] --> 1\n",
      "[1 1] --> 1\n"
     ]
    }
   ],
   "source": [
    "import numpy as np\n",
    "\n",
    "def andPerceptron(x1, x2):\n",
    "    w1, w2, theta = 0.5, 0.5, 0.7\n",
    "    netInput = x1*w1 + x2*w2\n",
    "    if netInput<=theta:\n",
    "        return 0\n",
    "    elif netInput > theta:\n",
    "        return 1\n",
    "\n",
    "def nandPerceptron(x1, x2):\n",
    "    w1, w2, theta = -0.5, -0.5, -0.7\n",
    "    netInput = x1*w1 + x2*w2\n",
    "    if netInput<=theta:\n",
    "        return 0\n",
    "    elif netInput > theta:\n",
    "        return 1\n",
    "    \n",
    "def orPerceptron(x1, x2):\n",
    "    w1, w2, bias = 0.5, 0.5, -0.2\n",
    "    netInput = x1*w1 + x2*w2 + bias\n",
    "    if netInput<=0:\n",
    "        return 0\n",
    "    else:\n",
    "        return 1\n",
    "    \n",
    "inputData = np.array([[0,0], [0,1], [1,0], [1,1]])\n",
    "print(\"AND Perceptron\")\n",
    "for itr in inputData:\n",
    "    print(str(itr) + \" --> \" + str(andPerceptron(itr[0] , itr[1])))\n",
    "    \n",
    "print(\"\\nNAND Perceptron\")\n",
    "for itr in inputData:\n",
    "    print(str(itr) + \" --> \" + str(nandPerceptron(itr[0] , itr[1])))\n",
    "    \n",
    "print(\"\\nOR Perceptron\")\n",
    "for itr in inputData:\n",
    "    print(str(itr) + \" --> \" + str(orPerceptron(itr[0] , itr[1])))"
   ]
  },
  {
   "cell_type": "code",
   "execution_count": 4,
   "metadata": {},
   "outputs": [
    {
     "name": "stdout",
     "output_type": "stream",
     "text": [
      "XOR Perceptron\n",
      "[0 0] --> 0\n",
      "[0 1] --> 1\n",
      "[1 0] --> 1\n",
      "[1 1] --> 0\n"
     ]
    }
   ],
   "source": [
    "def xorPerceptron(x1 , x2):\n",
    "    s1 = nandPerceptron(x1, x2)\n",
    "    s2 = orPerceptron(x1, x2)\n",
    "    y=andPerceptron(s1, s2)\n",
    "    return y\n",
    "\n",
    "print(\"XOR Perceptron\")\n",
    "for itr in inputData:\n",
    "    print(str(itr) + \" --> \" + str(xorPerceptron(itr[0] , itr[1])))"
   ]
  },
  {
   "cell_type": "code",
   "execution_count": null,
   "metadata": {
    "collapsed": true
   },
   "outputs": [],
   "source": []
  }
 ],
 "metadata": {
  "kernelspec": {
   "display_name": "Python 3",
   "language": "python",
   "name": "python3"
  },
  "language_info": {
   "codemirror_mode": {
    "name": "ipython",
    "version": 3
   },
   "file_extension": ".py",
   "mimetype": "text/x-python",
   "name": "python",
   "nbconvert_exporter": "python",
   "pygments_lexer": "ipython3",
   "version": "3.5.3"
  }
 },
 "nbformat": 4,
 "nbformat_minor": 2
}
